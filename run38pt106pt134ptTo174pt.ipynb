{
 "cells": [
  {
   "cell_type": "code",
   "execution_count": 1,
   "id": "7b3bf51a-27a4-4075-862a-7a6c699f6de8",
   "metadata": {},
   "outputs": [
    {
     "data": {
      "text/plain": [
       "'/home/alchera/workspace/csw/data-projects/NaverLandmark'"
      ]
     },
     "execution_count": 1,
     "metadata": {},
     "output_type": "execute_result"
    }
   ],
   "source": [
    "os.getcwd()"
   ]
  },
  {
   "cell_type": "markdown",
   "id": "11a88310-8584-4cd8-b45e-d591b34f15b5",
   "metadata": {},
   "source": [
    "# 2번 요청사항\n",
    "2. landmark tool -> 납품 : json 포맷 변환\n",
    "\n",
    "2.1 106-pt -> 106-pt\n",
    "\n",
    "2.2 38-pt + 134-pt + 106-pt -> 174-pt"
   ]
  },
  {
   "cell_type": "markdown",
   "id": "66b32229",
   "metadata": {},
   "source": [
    "## 2.2 시작"
   ]
  },
  {
   "cell_type": "code",
   "execution_count": 25,
   "id": "2a4df7a5",
   "metadata": {},
   "outputs": [
    {
     "name": "stderr",
     "output_type": "stream",
     "text": [
      "2022-04-27 15:37:35,735 - root - INFO - 0번째 방문입니다.\n",
      "2022-04-27 15:37:35,735 - root - INFO - 0번째 방문입니다.\n",
      "2022-04-27 15:37:35,735 - root - INFO - 0번째 방문입니다.\n",
      "2022-04-27 15:37:35,735 - root - INFO - 0번째 방문입니다.\n",
      "2022-04-27 15:37:35,735 - root - INFO - 0번째 방문입니다.\n",
      "2022-04-27 15:37:35,737 - root - INFO - 1번째 방문입니다.\n",
      "2022-04-27 15:37:35,737 - root - INFO - 1번째 방문입니다.\n",
      "2022-04-27 15:37:35,737 - root - INFO - 1번째 방문입니다.\n",
      "2022-04-27 15:37:35,737 - root - INFO - 1번째 방문입니다.\n",
      "2022-04-27 15:37:35,737 - root - INFO - 1번째 방문입니다.\n",
      "2022-04-27 15:37:35,737 - root - INFO - 2번째 방문입니다.\n",
      "2022-04-27 15:37:35,737 - root - INFO - 2번째 방문입니다.\n",
      "2022-04-27 15:37:35,737 - root - INFO - 2번째 방문입니다.\n",
      "2022-04-27 15:37:35,737 - root - INFO - 2번째 방문입니다.\n",
      "2022-04-27 15:37:35,737 - root - INFO - 2번째 방문입니다.\n",
      "2022-04-27 15:37:35,738 - root - INFO - 3번째 방문입니다.\n",
      "2022-04-27 15:37:35,738 - root - INFO - 3번째 방문입니다.\n",
      "2022-04-27 15:37:35,738 - root - INFO - 3번째 방문입니다.\n",
      "2022-04-27 15:37:35,738 - root - INFO - 3번째 방문입니다.\n",
      "2022-04-27 15:37:35,738 - root - INFO - 3번째 방문입니다.\n",
      "2022-04-27 15:37:35,738 - root - INFO - 4번째 방문입니다.\n",
      "2022-04-27 15:37:35,738 - root - INFO - 4번째 방문입니다.\n",
      "2022-04-27 15:37:35,738 - root - INFO - 4번째 방문입니다.\n",
      "2022-04-27 15:37:35,738 - root - INFO - 4번째 방문입니다.\n",
      "2022-04-27 15:37:35,738 - root - INFO - 4번째 방문입니다.\n",
      "2022-04-27 15:37:35,739 - root - INFO - 5번째 방문입니다.\n",
      "2022-04-27 15:37:35,739 - root - INFO - 5번째 방문입니다.\n",
      "2022-04-27 15:37:35,739 - root - INFO - 5번째 방문입니다.\n",
      "2022-04-27 15:37:35,739 - root - INFO - 5번째 방문입니다.\n",
      "2022-04-27 15:37:35,739 - root - INFO - 5번째 방문입니다.\n",
      "2022-04-27 15:37:35,740 - root - INFO - 6번째 방문입니다.\n",
      "2022-04-27 15:37:35,740 - root - INFO - 6번째 방문입니다.\n",
      "2022-04-27 15:37:35,740 - root - INFO - 6번째 방문입니다.\n",
      "2022-04-27 15:37:35,740 - root - INFO - 6번째 방문입니다.\n",
      "2022-04-27 15:37:35,740 - root - INFO - 6번째 방문입니다.\n",
      "2022-04-27 15:37:35,740 - root - INFO - 7번째 방문입니다.\n",
      "2022-04-27 15:37:35,740 - root - INFO - 7번째 방문입니다.\n",
      "2022-04-27 15:37:35,740 - root - INFO - 7번째 방문입니다.\n",
      "2022-04-27 15:37:35,740 - root - INFO - 7번째 방문입니다.\n",
      "2022-04-27 15:37:35,740 - root - INFO - 7번째 방문입니다.\n",
      "2022-04-27 15:37:35,741 - root - INFO - 8번째 방문입니다.\n",
      "2022-04-27 15:37:35,741 - root - INFO - 8번째 방문입니다.\n",
      "2022-04-27 15:37:35,741 - root - INFO - 8번째 방문입니다.\n",
      "2022-04-27 15:37:35,741 - root - INFO - 8번째 방문입니다.\n",
      "2022-04-27 15:37:35,741 - root - INFO - 8번째 방문입니다.\n",
      "2022-04-27 15:37:35,742 - root - INFO - 9번째 방문입니다.\n",
      "2022-04-27 15:37:35,742 - root - INFO - 9번째 방문입니다.\n",
      "2022-04-27 15:37:35,742 - root - INFO - 9번째 방문입니다.\n",
      "2022-04-27 15:37:35,742 - root - INFO - 9번째 방문입니다.\n",
      "2022-04-27 15:37:35,742 - root - INFO - 9번째 방문입니다.\n"
     ]
    }
   ],
   "source": [
    "# /home/alchera/workspace/csw/data-projects/NaverLandmark/test38pt106pt134ptTo174pt\n",
    "import logging\n",
    "from datetime import datetime\n",
    "dtToday = datetime.today()\n",
    "logFilename = dtToday.strftime(\"%y%m%d_%H%M%S.log\")\n",
    "\n",
    "# 로그 생성\n",
    "logger = logging.getLogger()\n",
    "\n",
    "# 로그의 출력 기준 설정\n",
    "logger.setLevel(logging.INFO)\n",
    "\n",
    "# log 출력 형식\n",
    "formatter = logging.Formatter('%(asctime)s - %(name)s - %(levelname)s - %(message)s')\n",
    "\n",
    "# log 출력\n",
    "stream_handler = logging.StreamHandler()\n",
    "stream_handler.setFormatter(formatter)\n",
    "logger.addHandler(stream_handler)\n",
    "\n",
    "# log를 파일에 출력\n",
    "file_handler = logging.FileHandler(logFilename)\n",
    "file_handler.setFormatter(formatter)\n",
    "logger.addHandler(file_handler)\n",
    "\n",
    "for i in range(10):\n",
    "\tlogger.info(f'{i}번째 방문입니다.')"
   ]
  },
  {
   "cell_type": "code",
   "execution_count": null,
   "id": "0818cf89",
   "metadata": {},
   "outputs": [],
   "source": [
    "def createDir(path):\n",
    "    if os.path.exists(path):\n",
    "        return -1\n",
    "    os.mkdir(path)"
   ]
  },
  {
   "cell_type": "code",
   "execution_count": 134,
   "id": "0dde1bdd",
   "metadata": {},
   "outputs": [
    {
     "name": "stdout",
     "output_type": "stream",
     "text": [
      "134-pt/1-10/0--Parade- 이강호\n",
      "134-pt/1-10/0--Parade- 최석원\n",
      "134-pt/1-10/1--Handshaking- 나병훈\n",
      "134-pt/11-20/14--Traffic\n"
     ]
    }
   ],
   "source": [
    "def pprint(iterable):\n",
    "    for iter in iterable:\n",
    "        print(iter)\n",
    "def customOsWalk(path):\n",
    "    res = []\n",
    "    for root, dirs, files in os.walk(path, topdown=WALK_OPT_TOPDOWN):\n",
    "        if not dirs: # 트리 마지막 노드만 필터링\n",
    "           res.append(root)\n",
    "    return sorted(res)\n",
    "\n",
    "pprint(customOsWalk('134-pt'))"
   ]
  },
  {
   "cell_type": "code",
   "execution_count": 151,
   "id": "4d1af0a5",
   "metadata": {},
   "outputs": [
    {
     "name": "stdout",
     "output_type": "stream",
     "text": [
      "--------------------------------------------------\n",
      "106-pt/1-10/0--Parade - 최석원\n",
      "/1-10/0--Parade - 최석원\n"
     ]
    },
    {
     "data": {
      "text/plain": [
       "'/1-10/0--Parade - 최석원'"
      ]
     },
     "execution_count": 151,
     "metadata": {},
     "output_type": "execute_result"
    }
   ],
   "source": [
    "def cutLevel1Dirname(relpath):\n",
    "    regexPattern = re.compile('pt(.*)')\n",
    "    res = regexPattern.search(relpath)\n",
    "    res = res[1] if res else -1\n",
    "    print('-' * 50)\n",
    "    print(relpath)\n",
    "    print(res)\n",
    "    return res\n",
    "    # re.search('pt(.*)', relpath)\n",
    "cutLevel1Dirname('106-pt/1-10/0--Parade - 최석원')"
   ]
  },
  {
   "cell_type": "code",
   "execution_count": 142,
   "id": "1a17b2a9",
   "metadata": {},
   "outputs": [
    {
     "data": {
      "text/plain": [
       "'/home/alchera/workspace/csw/data-projects/NaverLandmark/test38pt106pt134ptTo174pt/scnWithIntersection'"
      ]
     },
     "execution_count": 142,
     "metadata": {},
     "output_type": "execute_result"
    }
   ],
   "source": [
    "os.getcwd()"
   ]
  },
  {
   "cell_type": "code",
   "execution_count": 145,
   "id": "ca4e281f",
   "metadata": {},
   "outputs": [
    {
     "data": {
      "text/plain": [
       "{'/1-10/0--Parade - 이강호',\n",
       " '/1-10/0--Parade - 최석원',\n",
       " '/1-10/1--Handshaking - 나병훈',\n",
       " '/11-20/11--Meeting',\n",
       " '/11-20/12--Group--정세훈',\n",
       " '/11-20/13--Interview _최승현'}"
      ]
     },
     "execution_count": 145,
     "metadata": {},
     "output_type": "execute_result"
    }
   ],
   "source": [
    "setSubdir38pt & setSubdir106pt"
   ]
  },
  {
   "cell_type": "code",
   "execution_count": 162,
   "id": "d9d71bec",
   "metadata": {},
   "outputs": [
    {
     "data": {
      "text/plain": [
       "({'/1-10/0--Parade - 이강호',\n",
       "  '/1-10/0--Parade - 최석원',\n",
       "  '/1-10/1--Handshaking - 나병훈',\n",
       "  '/11-20/11--Meeting',\n",
       "  '/11-20/12--Group--정세훈',\n",
       "  '/11-20/13--Interview _최승현'},\n",
       " {'/1-10/0--Parade- 이강호',\n",
       "  '/1-10/0--Parade- 최석원',\n",
       "  '/1-10/1--Handshaking- 나병훈',\n",
       "  '/11-20/11--Meeting',\n",
       "  '/11-20/12--Group--정세훈',\n",
       "  '/11-20/13--Interview _최승현',\n",
       "  '/11-20/14--Traffic'})"
      ]
     },
     "execution_count": 162,
     "metadata": {},
     "output_type": "execute_result"
    }
   ],
   "source": [
    "setSubdir106pt, setSubdir134pt"
   ]
  },
  {
   "cell_type": "code",
   "execution_count": 160,
   "id": "562d81b9",
   "metadata": {},
   "outputs": [
    {
     "data": {
      "text/plain": [
       "{'/11-20/11--Meeting', '/11-20/12--Group--정세훈', '/11-20/13--Interview _최승현'}"
      ]
     },
     "execution_count": 160,
     "metadata": {},
     "output_type": "execute_result"
    }
   ],
   "source": [
    "setSubdir106pt & setSubdir134pt"
   ]
  },
  {
   "cell_type": "code",
   "execution_count": null,
   "id": "2ee7b9c2",
   "metadata": {},
   "outputs": [],
   "source": []
  },
  {
   "cell_type": "code",
   "execution_count": 156,
   "id": "7f55553a",
   "metadata": {},
   "outputs": [
    {
     "name": "stdout",
     "output_type": "stream",
     "text": [
      "/home/alchera/workspace/csw/data-projects/NaverLandmark/test38pt106pt134ptTo174pt/scnWithIntersection\n",
      "./38-pt/1-10/0--Parade - 이강호\n",
      "./38-pt/1-10/0--Parade - 최석원\n",
      "./38-pt/1-10/1--Handshaking - 나병훈\n",
      "./38-pt/11-20/11--Meeting\n",
      "./38-pt/11-20/12--Group--정세훈\n",
      "./38-pt/11-20/13--Interview _최승현\n",
      "./106-pt/1-10/0--Parade - 이강호\n",
      "./106-pt/1-10/0--Parade - 최석원\n",
      "./106-pt/1-10/1--Handshaking - 나병훈\n",
      "./106-pt/11-20/11--Meeting\n",
      "./106-pt/11-20/12--Group--정세훈\n",
      "./106-pt/11-20/13--Interview _최승현\n",
      "./134-pt/1-10/0--Parade- 이강호\n",
      "./134-pt/1-10/0--Parade- 최석원\n",
      "./134-pt/1-10/1--Handshaking- 나병훈\n",
      "./134-pt/11-20/11--Meeting\n",
      "./134-pt/11-20/12--Group--정세훈\n",
      "./134-pt/11-20/13--Interview _최승현\n",
      "./134-pt/11-20/14--Traffic\n",
      "--------------------------------------------------\n",
      "./38-pt/1-10/0--Parade - 이강호\n",
      "/1-10/0--Parade - 이강호\n",
      "--------------------------------------------------\n",
      "./38-pt/1-10/0--Parade - 최석원\n",
      "/1-10/0--Parade - 최석원\n",
      "--------------------------------------------------\n",
      "./38-pt/1-10/1--Handshaking - 나병훈\n",
      "/1-10/1--Handshaking - 나병훈\n",
      "--------------------------------------------------\n",
      "./38-pt/11-20/11--Meeting\n",
      "/11-20/11--Meeting\n",
      "--------------------------------------------------\n",
      "./38-pt/11-20/12--Group--정세훈\n",
      "/11-20/12--Group--정세훈\n",
      "--------------------------------------------------\n",
      "./38-pt/11-20/13--Interview _최승현\n",
      "/11-20/13--Interview _최승현\n",
      "--------------------------------------------------\n",
      "./106-pt/1-10/0--Parade - 이강호\n",
      "/1-10/0--Parade - 이강호\n",
      "--------------------------------------------------\n",
      "./106-pt/1-10/0--Parade - 최석원\n",
      "/1-10/0--Parade - 최석원\n",
      "--------------------------------------------------\n",
      "./106-pt/1-10/1--Handshaking - 나병훈\n",
      "/1-10/1--Handshaking - 나병훈\n",
      "--------------------------------------------------\n",
      "./106-pt/11-20/11--Meeting\n",
      "/11-20/11--Meeting\n",
      "--------------------------------------------------\n",
      "./106-pt/11-20/12--Group--정세훈\n",
      "/11-20/12--Group--정세훈\n",
      "--------------------------------------------------\n",
      "./106-pt/11-20/13--Interview _최승현\n",
      "/11-20/13--Interview _최승현\n",
      "--------------------------------------------------\n",
      "./134-pt/1-10/0--Parade- 이강호\n",
      "/1-10/0--Parade- 이강호\n",
      "--------------------------------------------------\n",
      "./134-pt/1-10/0--Parade- 최석원\n",
      "/1-10/0--Parade- 최석원\n",
      "--------------------------------------------------\n",
      "./134-pt/1-10/1--Handshaking- 나병훈\n",
      "/1-10/1--Handshaking- 나병훈\n",
      "--------------------------------------------------\n",
      "./134-pt/11-20/11--Meeting\n",
      "/11-20/11--Meeting\n",
      "--------------------------------------------------\n",
      "./134-pt/11-20/12--Group--정세훈\n",
      "/11-20/12--Group--정세훈\n",
      "--------------------------------------------------\n",
      "./134-pt/11-20/13--Interview _최승현\n",
      "/11-20/13--Interview _최승현\n",
      "--------------------------------------------------\n",
      "./134-pt/11-20/14--Traffic\n",
      "/11-20/14--Traffic\n"
     ]
    }
   ],
   "source": [
    "PATH_38PT = './38-pt'\n",
    "PATH_106PT = './106-pt'\n",
    "PATH_134PT = './134-pt'\n",
    "\n",
    "print(os.getcwd())\n",
    "\n",
    "subdir38pt = customOsWalk(PATH_38PT)\n",
    "subdir106pt = customOsWalk(PATH_106PT)\n",
    "subdir134pt = customOsWalk(PATH_134PT)\n",
    "\n",
    "pprint(subdir38pt)\n",
    "pprint(subdir106pt)\n",
    "pprint(subdir134pt)\n",
    "\n",
    "\n",
    "setSubdir38pt = set([cutLevel1Dirname(f) for f in subdir38pt])\n",
    "setSubdir106pt = set([cutLevel1Dirname(f) for f in subdir106pt])\n",
    "setSubdir134pt = set([cutLevel1Dirname(f) for f in subdir134pt])\n",
    "\n",
    "setSubdirUnion = setSubdir38pt | setSubdir106pt | setSubdir134pt\n",
    "setSubdirIntersection = setSubdir38pt & setSubdir106pt & setSubdir134pt\n",
    "\n",
    "# print('union:', setSubdirUnion)\n",
    "# print('intersection:', subdirsIntersection)\n",
    "\n",
    "# print(subdir38pt)\n",
    "# print(subdir106pt)\n",
    "# print(subdir134pt)\n",
    "# subdirs = (subdir38pt, subdir106pt, subdir134pt)"
   ]
  },
  {
   "cell_type": "code",
   "execution_count": 159,
   "id": "3a294800",
   "metadata": {},
   "outputs": [
    {
     "name": "stdout",
     "output_type": "stream",
     "text": [
      "0 --------------------------------------------------\n",
      "./38-pt/1-10/0--Parade - 이강호\n",
      "/1-10/0--Parade - 이강호\n",
      "1 --------------------------------------------------\n",
      "./38-pt/1-10/0--Parade - 최석원\n",
      "/1-10/0--Parade - 최석원\n",
      "2 --------------------------------------------------\n",
      "./38-pt/1-10/1--Handshaking - 나병훈\n",
      "/1-10/1--Handshaking - 나병훈\n",
      "3 --------------------------------------------------\n",
      "./38-pt/11-20/11--Meeting\n",
      "/11-20/11--Meeting\n",
      "4 --------------------------------------------------\n",
      "./38-pt/11-20/12--Group--정세훈\n",
      "/11-20/12--Group--정세훈\n",
      "5 --------------------------------------------------\n",
      "./38-pt/11-20/13--Interview _최승현\n",
      "/11-20/13--Interview _최승현\n",
      "6 --------------------------------------------------\n",
      "./106-pt/1-10/0--Parade - 이강호\n",
      "/1-10/0--Parade - 이강호\n",
      "7 --------------------------------------------------\n",
      "./106-pt/1-10/0--Parade - 최석원\n",
      "/1-10/0--Parade - 최석원\n",
      "8 --------------------------------------------------\n",
      "./106-pt/1-10/1--Handshaking - 나병훈\n",
      "/1-10/1--Handshaking - 나병훈\n",
      "9 --------------------------------------------------\n",
      "./106-pt/11-20/11--Meeting\n",
      "/11-20/11--Meeting\n",
      "10 --------------------------------------------------\n",
      "./106-pt/11-20/12--Group--정세훈\n",
      "/11-20/12--Group--정세훈\n",
      "11 --------------------------------------------------\n",
      "./106-pt/11-20/13--Interview _최승현\n",
      "/11-20/13--Interview _최승현\n",
      "12 --------------------------------------------------\n",
      "./134-pt/1-10/0--Parade- 이강호\n",
      "/1-10/0--Parade- 이강호\n",
      "13 --------------------------------------------------\n",
      "./134-pt/1-10/0--Parade- 최석원\n",
      "/1-10/0--Parade- 최석원\n",
      "14 --------------------------------------------------\n",
      "./134-pt/1-10/1--Handshaking- 나병훈\n",
      "/1-10/1--Handshaking- 나병훈\n",
      "15 --------------------------------------------------\n",
      "./134-pt/11-20/11--Meeting\n",
      "/11-20/11--Meeting\n",
      "16 --------------------------------------------------\n",
      "./134-pt/11-20/12--Group--정세훈\n",
      "/11-20/12--Group--정세훈\n",
      "17 --------------------------------------------------\n",
      "./134-pt/11-20/13--Interview _최승현\n",
      "/11-20/13--Interview _최승현\n",
      "18 --------------------------------------------------\n",
      "./134-pt/11-20/14--Traffic\n",
      "/11-20/14--Traffic\n"
     ]
    }
   ],
   "source": [
    "tempList = subdir38pt + subdir106pt + subdir134pt\n",
    "\n",
    "for i, f in enumerate(tempList):\n",
    "    print(i, end=' ')\n",
    "    cutLevel1Dirname(f)"
   ]
  },
  {
   "cell_type": "code",
   "execution_count": null,
   "id": "1f217e13",
   "metadata": {},
   "outputs": [],
   "source": []
  },
  {
   "cell_type": "code",
   "execution_count": null,
   "id": "d6a01dd9",
   "metadata": {},
   "outputs": [],
   "source": []
  },
  {
   "cell_type": "code",
   "execution_count": 153,
   "id": "d1e38a47",
   "metadata": {},
   "outputs": [
    {
     "data": {
      "text/plain": [
       "['./134-pt/1-10/0--Parade- 이강호',\n",
       " './134-pt/1-10/0--Parade- 최석원',\n",
       " './134-pt/1-10/1--Handshaking- 나병훈',\n",
       " './134-pt/11-20/11--Meeting',\n",
       " './134-pt/11-20/12--Group--정세훈',\n",
       " './134-pt/11-20/13--Interview _최승현',\n",
       " './134-pt/11-20/14--Traffic']"
      ]
     },
     "execution_count": 153,
     "metadata": {},
     "output_type": "execute_result"
    }
   ],
   "source": [
    "subdir134pt = customOsWalk(PATH_134PT)\n",
    "subdir134pt"
   ]
  },
  {
   "cell_type": "code",
   "execution_count": 105,
   "id": "2784e20d",
   "metadata": {},
   "outputs": [
    {
     "name": "stdout",
     "output_type": "stream",
     "text": [
      "{1, 2, 3} {1, 2, 4} {1, 3, 4}\n",
      "{3}\n",
      "{2}\n",
      "{4}\n",
      "{1}\n",
      "{1, 2, 3, 4}\n"
     ]
    }
   ],
   "source": [
    "a = set([1, 2, 3])\n",
    "b = set([1, 2,    4])\n",
    "c = set([1,    3, 4])\n",
    "\n",
    "print(a, b, c)\n",
    "\n",
    "print(a - b)\n",
    "print(b - c)\n",
    "print(c - a)\n",
    "print(a & b & c)\n",
    "print(a | b | c)"
   ]
  },
  {
   "cell_type": "code",
   "execution_count": 97,
   "id": "e6e0131e",
   "metadata": {},
   "outputs": [
    {
     "name": "stdout",
     "output_type": "stream",
     "text": [
      "{3}\n",
      "{2}\n",
      "{4}\n",
      "{1}\n"
     ]
    }
   ],
   "source": []
  },
  {
   "cell_type": "code",
   "execution_count": 71,
   "id": "525ea39a",
   "metadata": {},
   "outputs": [
    {
     "name": "stdout",
     "output_type": "stream",
     "text": [
      "38-pt/1-10/0--Parade - 이강호 106-pt/1-10 134-pt/1-10/0--Parade- 이강호\n",
      "38-pt/1-10/0--Parade - 최석원 106-pt/11-20 134-pt/1-10/0--Parade- 최석원\n"
     ]
    }
   ],
   "source": [
    "# print(*subdirs)\n",
    "# for subdirA, subdirB, subdirC in zip(*subdirs):\n",
    "lenSubdir\n",
    "for i\n",
    "    print(subdirA, subdirB, subdirC)"
   ]
  },
  {
   "cell_type": "code",
   "execution_count": 33,
   "id": "700e327f",
   "metadata": {},
   "outputs": [
    {
     "ename": "AttributeError",
     "evalue": "'generator' object has no attribute 'next'",
     "output_type": "error",
     "traceback": [
      "\u001b[0;31m---------------------------------------------------------------------------\u001b[0m",
      "\u001b[0;31mAttributeError\u001b[0m                            Traceback (most recent call last)",
      "\u001b[1;32m/home/alchera/workspace/csw/data-projects/NaverLandmark/run38pt106pt134ptTo174pt.ipynb Cell 7'\u001b[0m in \u001b[0;36m<cell line: 1>\u001b[0;34m()\u001b[0m\n\u001b[0;32m----> <a href='vscode-notebook-cell:/home/alchera/workspace/csw/data-projects/NaverLandmark/run38pt106pt134ptTo174pt.ipynb#ch0000026?line=0'>1</a>\u001b[0m (\u001b[39m1\u001b[39;49m \u001b[39mfor\u001b[39;49;00m _ \u001b[39min\u001b[39;49;00m \u001b[39mrange\u001b[39;49m(\u001b[39m5\u001b[39;49m))\u001b[39m.\u001b[39;49mnext()\n",
      "\u001b[0;31mAttributeError\u001b[0m: 'generator' object has no attribute 'next'"
     ]
    }
   ],
   "source": [
    "(1 for _ in range(5)).next()"
   ]
  },
  {
   "cell_type": "code",
   "execution_count": 22,
   "id": "dc7c7f97",
   "metadata": {},
   "outputs": [],
   "source": [
    "def walk():\n",
    "\n",
    "    return 0\n",
    "\n",
    "def main():\n",
    "    return 0\n"
   ]
  },
  {
   "cell_type": "code",
   "execution_count": null,
   "id": "aaf99fed",
   "metadata": {},
   "outputs": [],
   "source": []
  },
  {
   "cell_type": "code",
   "execution_count": null,
   "id": "26d36ebc",
   "metadata": {},
   "outputs": [],
   "source": []
  }
 ],
 "metadata": {
  "kernelspec": {
   "display_name": "Python 3 (ipykernel)",
   "language": "python",
   "name": "python3"
  },
  "language_info": {
   "codemirror_mode": {
    "name": "ipython",
    "version": 3
   },
   "file_extension": ".py",
   "mimetype": "text/x-python",
   "name": "python",
   "nbconvert_exporter": "python",
   "pygments_lexer": "ipython3",
   "version": "3.8.10"
  }
 },
 "nbformat": 4,
 "nbformat_minor": 5
}
